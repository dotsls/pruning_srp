{
 "cells": [
  {
   "cell_type": "raw",
   "id": "e681c261-9f4a-4874-af47-c03464109f40",
   "metadata": {
    "editable": true,
    "raw_mimetype": "",
    "slideshow": {
     "slide_type": ""
    },
    "tags": []
   },
   "source": [
    "To download index for checkpoints run following in the terminal: \n",
    "    wget https://storage.googleapis.com/vit_models/augreg/index.csv\n",
    "\n",
    "Link to useful colab: \"How to train your ViT? Data, Augmentation, and Regularization in Vision Transformers\"\n",
    "    https://colab.research.google.com/github/google-research/vision_transformer/blob/main/vit_jax_augreg.ipynb"
   ]
  },
  {
   "cell_type": "code",
   "execution_count": 67,
   "id": "cb88a3bf-fb3a-4dce-bd85-9d66e3a34a4c",
   "metadata": {
    "editable": true,
    "slideshow": {
     "slide_type": ""
    },
    "tags": []
   },
   "outputs": [],
   "source": [
    "import pandas as pd, numpy as np\n",
    "import torch, timm\n",
    "from  torchvision.transforms import InterpolationMode\n",
    "from torchvision.transforms import v2\n",
    "import torchvision.datasets as datasets\n",
    "import tensorflow as tf, tensorflow_datasets as tfds\n",
    "from tqdm import tqdm\n",
    "import matplotlib.pyplot as plt\n"
   ]
  },
  {
   "cell_type": "markdown",
   "id": "52b2e88d-a74f-49f3-9ff9-6bc76dfe0e70",
   "metadata": {},
   "source": [
    "## Exploring checkpoints"
   ]
  },
  {
   "cell_type": "code",
   "execution_count": 2,
   "id": "3eddc076-5c08-4880-bdf7-818eb7a56967",
   "metadata": {
    "editable": true,
    "slideshow": {
     "slide_type": ""
    },
    "tags": []
   },
   "outputs": [],
   "source": [
    "df = pd.read_csv('data/index.csv')\n",
    "\n",
    "# all columns of index.csv dataframe\n",
    "index_cols = list(df.columns)\n",
    "\n",
    "# list of all models in the vit family\n",
    "model_types = df.name.unique()\n",
    "\n",
    "# best checkpoint filenames based on pre-train results\n",
    "best_pretrains = set(\n",
    "    df.query('ds==\"i21k\"')\n",
    "    .groupby('name')\n",
    "    .apply(lambda df: df.sort_values('final_val').iloc[-1], include_groups=False)\n",
    "    .filename\n",
    ")\n",
    "# Select all finetunes from these models.\n",
    "best_finetunes = df.loc[df.filename.apply(lambda filename: filename in best_pretrains)]\n",
    "\n",
    "# all adapted datasets\n",
    "adapt_datasets = best_finetunes.adapt_ds.unique()"
   ]
  },
  {
   "cell_type": "code",
   "execution_count": 3,
   "id": "f35a8756-4440-451d-9173-aad9fb9eb1cb",
   "metadata": {},
   "outputs": [
    {
     "name": "stdout",
     "output_type": "stream",
     "text": [
      "Datasets   :  ['imagenet2012' 'cifar100' 'resisc45' 'oxford_iiit_pet' 'kitti']\n",
      "Model types:  ['Ti/16' 'S/32' 'B/16' 'L/16' 'R50+L/32' 'R26+S/32' 'S/16' 'B/32'\n",
      " 'R+Ti/16' 'B/8']\n",
      "Index cols :  ['name', 'ds', 'epochs', 'lr', 'aug', 'wd', 'do', 'sd', 'best_val', 'final_val', 'final_test', 'adapt_ds', 'adapt_lr', 'adapt_steps', 'adapt_resolution', 'adapt_final_val', 'adapt_final_test', 'params', 'infer_samples_per_sec', 'filename', 'adapt_filename']\n"
     ]
    }
   ],
   "source": [
    "print('Datasets   : ', adapt_datasets)\n",
    "print('Model types: ', model_types)\n",
    "print('Index cols : ', index_cols)"
   ]
  },
  {
   "cell_type": "code",
   "execution_count": 83,
   "id": "29f5de49-ab1b-4b29-a8bb-3fa677e64dba",
   "metadata": {},
   "outputs": [],
   "source": [
    "# helper functions\n",
    "def cmp_models(datasets, models_list):\n",
    "    print('Models: ', models_list, '\\n')\n",
    "    \n",
    "    for ds in datasets:\n",
    "        info = [\n",
    "            best_finetunes.query(f'name==\"{m}\" and adapt_ds==\"{ds}\"')\n",
    "            .sort_values('adapt_final_val') # I'm not sure whether we should sort by validation result or test result\n",
    "            .iloc[-1] for m in models_list  # but original colab uses validation result\n",
    "        ]\n",
    "    \n",
    "        print('Adapt dataset: ', ds)\n",
    "        print(f'Resolutions: {[int(i.adapt_resolution) for i in info]}')\n",
    "        print(f'Final vals: {[round(float(i.adapt_final_val), 3) for i in info]}')\n",
    "        print(f'Final tests: {[round(float(i.adapt_final_test), 3) for i in info]}\\n')\n",
    "\n",
    "def get_best_model(adapt_ds, model_type):\n",
    "    out = (\n",
    "        best_finetunes.query(f'name==\"{model_type}\" and adapt_ds==\"{adapt_ds}\"')\n",
    "        .sort_values('adapt_final_val').iloc[-1].adapt_filename\n",
    "    )\n",
    "    return out"
   ]
  },
  {
   "cell_type": "code",
   "execution_count": 5,
   "id": "62d5013f-3e52-480e-ae0a-36bd9a591fb1",
   "metadata": {},
   "outputs": [
    {
     "name": "stdout",
     "output_type": "stream",
     "text": [
      "Models:  ['B/16', 'S/16', 'Ti/16'] \n",
      "\n",
      "Adapt dataset:  imagenet2012\n",
      "Resolutions: [384, 384, 384]\n",
      "Final vals: [0.894, 0.871, 0.82]\n",
      "Final tests: [0.855, 0.837, 0.782]\n",
      "\n",
      "Adapt dataset:  cifar100\n",
      "Resolutions: [224, 224, 224]\n",
      "Final vals: [0.94, 0.922, 0.888]\n",
      "Final tests: [0.941, 0.921, 0.88]\n",
      "\n",
      "Adapt dataset:  resisc45\n",
      "Resolutions: [384, 384, 384]\n",
      "Final vals: [0.977, 0.972, 0.967]\n",
      "Final tests: [0.975, 0.966, 0.961]\n",
      "\n",
      "Adapt dataset:  oxford_iiit_pet\n",
      "Resolutions: [384, 384, 384]\n",
      "Final vals: [0.984, 0.967, 0.954]\n",
      "Final tests: [0.947, 0.934, 0.911]\n",
      "\n",
      "Adapt dataset:  kitti\n",
      "Resolutions: [224, 384, 384]\n",
      "Final vals: [0.865, 0.857, 0.851]\n",
      "Final tests: [0.813, 0.835, 0.831]\n",
      "\n"
     ]
    }
   ],
   "source": [
    "cmp_models(adapt_datasets, ['B/16', 'S/16', 'Ti/16'])"
   ]
  },
  {
   "cell_type": "code",
   "execution_count": 82,
   "id": "c0ebc9e9-e31c-4c92-ad68-8713194448cc",
   "metadata": {},
   "outputs": [
    {
     "data": {
      "text/plain": [
       "np.int64(224)"
      ]
     },
     "execution_count": 82,
     "metadata": {},
     "output_type": "execute_result"
    }
   ],
   "source": [
    "best_finetunes.query(f'name==\"Ti/16\" and adapt_ds==\"cifar100\"').sort_values('adapt_final_val')#.iloc[-3].adapt_filename\n",
    "get_best_model('cifar100', 'Ti/16')"
   ]
  },
  {
   "cell_type": "code",
   "execution_count": null,
   "id": "75346d93-a230-4548-986e-5e2a5f151a7e",
   "metadata": {},
   "outputs": [],
   "source": []
  },
  {
   "cell_type": "markdown",
   "id": "4909c2e6-f23c-4196-bfe5-5d44579ff6b3",
   "metadata": {},
   "source": [
    "## Loading model and dataset"
   ]
  },
  {
   "cell_type": "code",
   "execution_count": 86,
   "id": "ff3c3283-761b-40d4-bfb3-aa9d1592b0d3",
   "metadata": {},
   "outputs": [
    {
     "name": "stdout",
     "output_type": "stream",
     "text": [
      "Files already downloaded and verified\n"
     ]
    }
   ],
   "source": [
    "device = torch.device(\"mps\" if torch.backends.mps.is_available() else \"cpu\")\n",
    "timm_modelnames = {\n",
    "    'Ti/16-224': 'vit_tiny_patch16_224',\n",
    "    'Ti/16-384': 'vit_tiny_patch16_384', \n",
    "    'S/16-224': 'vit_small_patch16_224', \n",
    "    'S/16-384': 'vit_small_patch16_384',\n",
    "    'B/16-224': 'vit_base_patch16_224', \n",
    "    'B/16-384': 'vit_base_patch16_384'\n",
    "}\n",
    "\n",
    "def load_model_and_dataset(adapt_ds, model_type, batch_size):\n",
    "    model_to_load = get_best_model(adapt_ds, model_type)\n",
    "    # sample output: Ti_16-i21k-300ep-lr_0.001-aug_none-wd_0.03-do_0.0-sd_0.0--cifar100-steps_10k-lr_0.003-res_224\n",
    "    res = int(model_to_load.split('_')[-1])\n",
    "\n",
    "    # load dataset\n",
    "    ds_transform = v2.Compose([\n",
    "        v2.ToImage(), \n",
    "        v2.ToDtype(torch.float32, scale=True),\n",
    "        v2.Resize((res, res)),\n",
    "        v2.Normalize(mean=[0.5, 0.5, 0.5], std=[0.5, 0.5, 0.5])\n",
    "    ])\n",
    "    dataset = datasets.CIFAR100('data/', train=False, transform=ds_transform, download=True)\n",
    "    dataloader = torch.utils.data.DataLoader(dataset, batch_size=batch_size)\n",
    "    \n",
    "    model = timm.create_model(timm_modelnames[f'{model_type}-{res}'], num_classes=len(dataset.classes))\n",
    "\n",
    "    # downloading a checkpoint automatically requires credentials, that's why I didn't implement it\n",
    "    # you should download it manually and place the .npz file in the data folder\n",
    "    if not tf.io.gfile.exists(f'data/{model_to_load}.npz'):\n",
    "      tf.io.gfile.copy(f'gs://vit_models/augreg/{model_to_load}.npz', f'data/{model_to_load}.npz')\n",
    "\n",
    "    timm.models.load_checkpoint(model, f'data/{model_to_load}.npz')\n",
    "\n",
    "    model.to(device)\n",
    "    model.eval()\n",
    "\n",
    "    return model, dataset, dataloader\n",
    "\n",
    "\n",
    "batch_size = 32\n",
    "model, dataset, dataloader = load_model_and_dataset('cifar100', 'Ti/16', batch_size)"
   ]
  },
  {
   "cell_type": "code",
   "execution_count": 87,
   "id": "4d022416-8df9-412d-b6ac-0c04b070065a",
   "metadata": {},
   "outputs": [
    {
     "name": "stderr",
     "output_type": "stream",
     "text": [
      "100%|█████████████████████████████████████████████████████████| 313/313 [00:47<00:00,  6.54it/s]\n"
     ]
    },
    {
     "data": {
      "text/plain": [
       "tensor(0.8811, device='mps:0')"
      ]
     },
     "execution_count": 87,
     "metadata": {},
     "output_type": "execute_result"
    }
   ],
   "source": [
    "sm = torch.nn.Softmax(dim=1)\n",
    "\n",
    "with torch.no_grad():\n",
    "    acc, correct = 0, 0\n",
    "    for features, labels in tqdm(iter(dataloader)):\n",
    "        features = features.to(device)\n",
    "        labels = labels.to(device)\n",
    "        clf = sm(model(features)).argmax(1)\n",
    "        correct += (clf == labels).sum()\n",
    "\n",
    "acc = correct / len(dataset)\n",
    "acc"
   ]
  },
  {
   "cell_type": "markdown",
   "id": "3fca7666-d14b-4d05-b789-034870f4ab9a",
   "metadata": {
    "jp-MarkdownHeadingCollapsed": true
   },
   "source": [
    "### Downloading dataset from tensorflow_datasets"
   ]
  },
  {
   "cell_type": "code",
   "execution_count": 6,
   "id": "378c7426-a3e3-4526-90ac-0bbc9f1487fe",
   "metadata": {
    "collapsed": true,
    "jupyter": {
     "outputs_hidden": true
    },
    "scrolled": true
   },
   "outputs": [
    {
     "name": "stderr",
     "output_type": "stream",
     "text": [
      "WARNING:absl:Variant folder /Users/shams/tensorflow_datasets/cifar100/3.0.2 has no dataset_info.json\n"
     ]
    },
    {
     "name": "stdout",
     "output_type": "stream",
     "text": [
      "\u001b[1mDownloading and preparing dataset Unknown size (download: Unknown size, generated: Unknown size, total: Unknown size) to /Users/shams/tensorflow_datasets/cifar100/3.0.2...\u001b[0m\n"
     ]
    },
    {
     "data": {
      "application/vnd.jupyter.widget-view+json": {
       "model_id": "f210a0ca88bf4718a5fd27d3b9471927",
       "version_major": 2,
       "version_minor": 0
      },
      "text/plain": [
       "Dl Completed...: 0 url [00:00, ? url/s]"
      ]
     },
     "metadata": {},
     "output_type": "display_data"
    },
    {
     "data": {
      "application/vnd.jupyter.widget-view+json": {
       "model_id": "3515bead4359425792064747f87c2c96",
       "version_major": 2,
       "version_minor": 0
      },
      "text/plain": [
       "Dl Size...: 0 MiB [00:00, ? MiB/s]"
      ]
     },
     "metadata": {},
     "output_type": "display_data"
    },
    {
     "data": {
      "application/vnd.jupyter.widget-view+json": {
       "model_id": "17a9b34037ad4ef2b05e96bf87d666c2",
       "version_major": 2,
       "version_minor": 0
      },
      "text/plain": [
       "Extraction completed...: 0 file [00:00, ? file/s]"
      ]
     },
     "metadata": {},
     "output_type": "display_data"
    },
    {
     "data": {
      "application/vnd.jupyter.widget-view+json": {
       "model_id": "4923f3258ad34fb98f5d877c94dc2ddc",
       "version_major": 2,
       "version_minor": 0
      },
      "text/plain": [
       "Generating splits...:   0%|          | 0/2 [00:00<?, ? splits/s]"
      ]
     },
     "metadata": {},
     "output_type": "display_data"
    },
    {
     "data": {
      "application/vnd.jupyter.widget-view+json": {
       "model_id": "3b532aabda114bf3a0e4d74726d17a6c",
       "version_major": 2,
       "version_minor": 0
      },
      "text/plain": [
       "Generating train examples...: 0 examples [00:00, ? examples/s]"
      ]
     },
     "metadata": {},
     "output_type": "display_data"
    },
    {
     "data": {
      "application/vnd.jupyter.widget-view+json": {
       "model_id": "31af9b9f410244a5b19822f42315e8b0",
       "version_major": 2,
       "version_minor": 0
      },
      "text/plain": [
       "Shuffling /Users/shams/tensorflow_datasets/cifar100/incomplete.KZ5DOQ_3.0.2/cifar100-train.tfrecord*...:   0%|…"
      ]
     },
     "metadata": {},
     "output_type": "display_data"
    },
    {
     "data": {
      "application/vnd.jupyter.widget-view+json": {
       "model_id": "9c0e8b9bb0144d15bccd2263407df7cb",
       "version_major": 2,
       "version_minor": 0
      },
      "text/plain": [
       "Generating test examples...: 0 examples [00:00, ? examples/s]"
      ]
     },
     "metadata": {},
     "output_type": "display_data"
    },
    {
     "data": {
      "application/vnd.jupyter.widget-view+json": {
       "model_id": "8c6979eb226c46319572bbda632ab866",
       "version_major": 2,
       "version_minor": 0
      },
      "text/plain": [
       "Shuffling /Users/shams/tensorflow_datasets/cifar100/incomplete.KZ5DOQ_3.0.2/cifar100-test.tfrecord*...:   0%| …"
      ]
     },
     "metadata": {},
     "output_type": "display_data"
    },
    {
     "name": "stdout",
     "output_type": "stream",
     "text": [
      "\u001b[1mDataset cifar100 downloaded and prepared to /Users/shams/tensorflow_datasets/cifar100/3.0.2. Subsequent calls will reuse this data.\u001b[0m\n"
     ]
    },
    {
     "data": {
      "text/plain": [
       "tfds.core.DatasetInfo(\n",
       "    name='cifar100',\n",
       "    full_name='cifar100/3.0.2',\n",
       "    description=\"\"\"\n",
       "    This dataset is just like the CIFAR-10, except it has 100 classes containing 600 images each. There are 500 training images and 100 testing images per class. The 100 classes in the CIFAR-100 are grouped into 20 superclasses. Each image comes with a \"fine\" label (the class to which it belongs) and a \"coarse\" label (the superclass to which it belongs).\n",
       "    \"\"\",\n",
       "    homepage='https://www.cs.toronto.edu/~kriz/cifar.html',\n",
       "    data_dir='/Users/shams/tensorflow_datasets/cifar100/3.0.2',\n",
       "    file_format=tfrecord,\n",
       "    download_size=160.71 MiB,\n",
       "    dataset_size=132.03 MiB,\n",
       "    features=FeaturesDict({\n",
       "        'coarse_label': ClassLabel(shape=(), dtype=int64, num_classes=20),\n",
       "        'id': Text(shape=(), dtype=string),\n",
       "        'image': Image(shape=(32, 32, 3), dtype=uint8),\n",
       "        'label': ClassLabel(shape=(), dtype=int64, num_classes=100),\n",
       "    }),\n",
       "    supervised_keys=('image', 'label'),\n",
       "    disable_shuffling=False,\n",
       "    nondeterministic_order=False,\n",
       "    splits={\n",
       "        'test': <SplitInfo num_examples=10000, num_shards=1>,\n",
       "        'train': <SplitInfo num_examples=50000, num_shards=1>,\n",
       "    },\n",
       "    citation=\"\"\"@TECHREPORT{Krizhevsky09learningmultiple,\n",
       "        author = {Alex Krizhevsky},\n",
       "        title = {Learning multiple layers of features from tiny images},\n",
       "        institution = {},\n",
       "        year = {2009}\n",
       "    }\"\"\",\n",
       ")"
      ]
     },
     "execution_count": 6,
     "metadata": {},
     "output_type": "execute_result"
    }
   ],
   "source": [
    "filename = get_best_model('cifar100', 'Ti/16')\n",
    "\n",
    "tfds_name = filename.split('--')[1].split('-')[0]\n",
    "resolution = int(filename.split('_')[-1])\n",
    "\n",
    "ds, ds_info = tfds.load(tfds_name, with_info=True)\n",
    "ds_info"
   ]
  },
  {
   "cell_type": "code",
   "execution_count": 13,
   "id": "18c5cf8f-41f9-4a1a-ac27-87cffa6c7f84",
   "metadata": {},
   "outputs": [],
   "source": [
    "def pp(img, sz):\n",
    "    \"\"\"Simple image preprocessing.\"\"\"\n",
    "    img = tf.cast(img, float) / 255.0\n",
    "    img = tf.image.resize(img, [sz, sz])\n",
    "    return img\n",
    "\n",
    "def pp_torch(img, sz):\n",
    "    \"\"\"Simple image preprocessing for PyTorch.\"\"\"\n",
    "    img = pp(img, sz)\n",
    "    img = img.numpy().transpose([2, 0, 1])  # PyTorch expects NCHW format.\n",
    "    return torch.tensor(img[None])"
   ]
  },
  {
   "cell_type": "code",
   "execution_count": 59,
   "id": "85cb51a2-4281-4411-bc28-f5aff8ef882c",
   "metadata": {},
   "outputs": [],
   "source": [
    "sm = torch.nn.Softmax(dim=1)\n",
    "\n",
    "def pp(img, sz):\n",
    "    \"\"\"Simple image preprocessing.\"\"\"\n",
    "    img = tf.cast(img, float) / 255.0\n",
    "    img = tf.image.resize(img, [sz, sz])\n",
    "    return img\n",
    "\n",
    "def pp_torch(img, sz):\n",
    "    \"\"\"Simple image preprocessing for PyTorch.\"\"\"\n",
    "    img = pp(img, sz)\n",
    "    img = img.numpy().transpose([2, 0, 1])  # PyTorch expects NCHW format.\n",
    "    return torch.tensor(img[None])\n",
    "\n",
    "# with torch.no_grad():\n",
    "#     acc, correct = 0, 0\n",
    "#     for d in tqdm(iter(ds['test'])):\n",
    "#         features = (pp_torch(d['image'], 224)).to(device)\n",
    "#         labels = torch.tensor(d['label'].numpy(), dtype=torch.int64, device=device)\n",
    "#         clf = sm(model(features)).argmax(1)\n",
    "#         correct += (clf == labels).sum()\n",
    "\n",
    "# acc = correct / len(dataset)\n",
    "# acc"
   ]
  },
  {
   "cell_type": "code",
   "execution_count": 73,
   "id": "b2ccac17-5887-4638-8c55-010f3246c09e",
   "metadata": {},
   "outputs": [
    {
     "name": "stdout",
     "output_type": "stream",
     "text": [
      "tf.Tensor(43, shape=(), dtype=int64) 29\n"
     ]
    },
    {
     "data": {
      "image/png": "[encoded data removed]",
      "text/plain": [
       "<Figure size 1000x400 with 1 Axes>"
      ]
     },
     "metadata": {},
     "output_type": "display_data"
    }
   ],
   "source": [
    "d = next(iter(ds['test']))\n",
    "\n",
    "with torch.no_grad():\n",
    "  logits, = sm(model(\n",
    "      pp_torch(d['image'], resolution).to(device))\n",
    "      ).detach().cpu().numpy()\n",
    "\n",
    "plt.figure(figsize=(10, 4))\n",
    "plt.bar(list(map(ds_info.features['label'].int2str, range(len(logits)))), logits)\n",
    "plt.xticks(rotation=90);\n",
    "print(d['label'], logits.argmax())"
   ]
  },
  {
   "cell_type": "markdown",
   "id": "7ced2afb-6e39-42ed-9df9-ccd9c329faab",
   "metadata": {},
   "source": [
    "### Other section"
   ]
  }
 ],
 "metadata": {
  "kernelspec": {
   "display_name": "Python 3 (ipykernel)",
   "language": "python",
   "name": "python3"
  },
  "language_info": {
   "codemirror_mode": {
    "name": "ipython",
    "version": 3
   },
   "file_extension": ".py",
   "mimetype": "text/x-python",
   "name": "python",
   "nbconvert_exporter": "python",
   "pygments_lexer": "ipython3",
   "version": "3.12.2"
  }
 },
 "nbformat": 4,
 "nbformat_minor": 5
}
