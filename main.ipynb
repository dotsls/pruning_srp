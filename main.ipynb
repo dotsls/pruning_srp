{
 "cells": [
  {
   "cell_type": "markdown",
   "id": "5f1b8fa9-3cbf-4da7-b873-edbd6b742c60",
   "metadata": {
    "editable": true,
    "id": "5f1b8fa9-3cbf-4da7-b873-edbd6b742c60",
    "raw_mimetype": "",
    "tags": []
   },
   "source": [
    "Main notebook for running fine-tuned vit checkpoints for various datasets\n",
    "\n",
    "REQUIRED: Download index for checkpoints by running following in the terminal:  \n",
    "    wget https://storage.googleapis.com/vit_models/augreg/index.csv  \n",
    "Store it in the data folder  \n",
    "\n",
    "Link to useful colab and github page: \"How to train your ViT? Data, Augmentation, and Regularization in Vision Transformers\"  \n",
    "    https://colab.research.google.com/github/google-research/vision_transformer/blob/main/vit_jax_augreg.ipynb  \n",
    "    https://github.com/google-research/vision_transformer?tab=readme-ov-file  "
   ]
  },
  {
   "cell_type": "code",
   "execution_count": 44,
   "id": "cb88a3bf-fb3a-4dce-bd85-9d66e3a34a4c",
   "metadata": {
    "editable": true,
    "id": "cb88a3bf-fb3a-4dce-bd85-9d66e3a34a4c",
    "tags": []
   },
   "outputs": [],
   "source": [
    "import pandas as pd, numpy as np\n",
    "import torch, timm\n",
    "from torchvision.transforms import v2\n",
    "import torchvision.datasets as datasets\n",
    "import tensorflow as tf\n",
    "from tqdm import tqdm\n",
    "import time  # For latency measurement\n",
    "from ptflops import get_model_complexity_info"
   ]
  },
  {
   "cell_type": "markdown",
   "id": "52b2e88d-a74f-49f3-9ff9-6bc76dfe0e70",
   "metadata": {
    "id": "52b2e88d-a74f-49f3-9ff9-6bc76dfe0e70"
   },
   "source": [
    "## Exploring checkpoints"
   ]
  },
  {
   "cell_type": "code",
   "execution_count": 2,
   "id": "3eddc076-5c08-4880-bdf7-818eb7a56967",
   "metadata": {
    "editable": true,
    "id": "3eddc076-5c08-4880-bdf7-818eb7a56967",
    "tags": []
   },
   "outputs": [],
   "source": [
    "df = pd.read_csv('data/index.csv')\n",
    "\n",
    "# all columns of index.csv dataframe\n",
    "index_cols = list(df.columns)\n",
    "\n",
    "# list of all models in the vit family\n",
    "model_types = df.name.unique()\n",
    "\n",
    "# best checkpoint filenames based on pre-train results\n",
    "best_pretrains = set(\n",
    "    df.query('ds==\"i21k\"')\n",
    "    .groupby('name')\n",
    "    .apply(lambda df: df.sort_values('final_val').iloc[-1], include_groups=False)\n",
    "    .filename\n",
    ")\n",
    "# Select all finetunes from these models.\n",
    "best_finetunes = df.loc[df.filename.apply(lambda filename: filename in best_pretrains)]\n",
    "\n",
    "# all adapted datasets\n",
    "adapt_datasets = best_finetunes.adapt_ds.unique()"
   ]
  },
  {
   "cell_type": "code",
   "execution_count": 3,
   "id": "f35a8756-4440-451d-9173-aad9fb9eb1cb",
   "metadata": {
    "colab": {
     "base_uri": "https://localhost:8080/"
    },
    "id": "f35a8756-4440-451d-9173-aad9fb9eb1cb",
    "outputId": "43cdd56a-af78-4a72-e240-7073e78c8d6c"
   },
   "outputs": [
    {
     "name": "stdout",
     "output_type": "stream",
     "text": [
      "Datasets   :  ['imagenet2012' 'cifar100' 'resisc45' 'oxford_iiit_pet' 'kitti']\n",
      "Model types:  ['Ti/16' 'S/32' 'B/16' 'L/16' 'R50+L/32' 'R26+S/32' 'S/16' 'B/32'\n",
      " 'R+Ti/16' 'B/8']\n",
      "Index cols :  ['name', 'ds', 'epochs', 'lr', 'aug', 'wd', 'do', 'sd', 'best_val', 'final_val', 'final_test', 'adapt_ds', 'adapt_lr', 'adapt_steps', 'adapt_resolution', 'adapt_final_val', 'adapt_final_test', 'params', 'infer_samples_per_sec', 'filename', 'adapt_filename']\n"
     ]
    }
   ],
   "source": [
    "print('Datasets   : ', adapt_datasets)\n",
    "print('Model types: ', model_types)\n",
    "print('Index cols : ', index_cols)"
   ]
  },
  {
   "cell_type": "code",
   "execution_count": 4,
   "id": "29f5de49-ab1b-4b29-a8bb-3fa677e64dba",
   "metadata": {
    "id": "29f5de49-ab1b-4b29-a8bb-3fa677e64dba"
   },
   "outputs": [],
   "source": [
    "# helper functions\n",
    "def cmp_models(datasets, models_list):\n",
    "    data = {'models': models_list}\n",
    "    for ds in datasets:\n",
    "        info = [\n",
    "            best_finetunes.query(f'name==\"{m}\" and adapt_ds==\"{ds}\"')\n",
    "            .sort_values('adapt_final_val') # I'm not sure whether we should sort by validation result or test result\n",
    "            .iloc[-1] for m in models_list  # but original colab uses validation result\n",
    "        ]\n",
    "        data[f'{ds}-res'] = [int(i.adapt_resolution) for i in info]\n",
    "        data[f'{ds}-val'] = [round(float(i.adapt_final_val), 5) for i in info]\n",
    "        data[f'{ds}-test'] = [round(float(i.adapt_final_test), 5) for i in info]\n",
    "    return pd.DataFrame(data=data)\n",
    "\n",
    "def get_best_model(adapt_ds, model_type):\n",
    "    out = (\n",
    "        best_finetunes.query(f'name==\"{model_type}\" and adapt_ds==\"{adapt_ds}\"')\n",
    "        .sort_values('adapt_final_val').iloc[-1].adapt_filename\n",
    "    )\n",
    "    return out"
   ]
  },
  {
   "cell_type": "code",
   "execution_count": 5,
   "id": "62d5013f-3e52-480e-ae0a-36bd9a591fb1",
   "metadata": {
    "colab": {
     "base_uri": "https://localhost:8080/",
     "height": 143
    },
    "id": "62d5013f-3e52-480e-ae0a-36bd9a591fb1",
    "outputId": "507f3346-3cf8-47ff-a143-fda690f5e385"
   },
   "outputs": [
    {
     "data": {
      "application/vnd.google.colaboratory.intrinsic+json": {
       "summary": "{\n  \"name\": \"cmp_models(adapt_datasets, ['B/16', 'S/16', 'Ti/16'])\",\n  \"rows\": 3,\n  \"fields\": [\n    {\n      \"column\": \"models\",\n      \"properties\": {\n        \"dtype\": \"string\",\n        \"num_unique_values\": 3,\n        \"samples\": [\n          \"B/16\",\n          \"S/16\",\n          \"Ti/16\"\n        ],\n        \"semantic_type\": \"\",\n        \"description\": \"\"\n      }\n    },\n    {\n      \"column\": \"imagenet2012-res\",\n      \"properties\": {\n        \"dtype\": \"number\",\n        \"std\": 0,\n        \"min\": 384,\n        \"max\": 384,\n        \"num_unique_values\": 1,\n        \"samples\": [\n          384\n        ],\n        \"semantic_type\": \"\",\n        \"description\": \"\"\n      }\n    },\n    {\n      \"column\": \"imagenet2012-val\",\n      \"properties\": {\n        \"dtype\": \"number\",\n        \"std\": 0.03802611865547151,\n        \"min\": 0.81993,\n        \"max\": 0.89432,\n        \"num_unique_values\": 3,\n        \"samples\": [\n          0.89432\n        ],\n        \"semantic_type\": \"\",\n        \"description\": \"\"\n      }\n    },\n    {\n      \"column\": \"imagenet2012-test\",\n      \"properties\": {\n        \"dtype\": \"number\",\n        \"std\": 0.03790852674531152,\n        \"min\": 0.7822,\n        \"max\": 0.85486,\n        \"num_unique_values\": 3,\n        \"samples\": [\n          0.85486\n        ],\n        \"semantic_type\": \"\",\n        \"description\": \"\"\n      }\n    },\n    {\n      \"column\": \"cifar100-res\",\n      \"properties\": {\n        \"dtype\": \"number\",\n        \"std\": 0,\n        \"min\": 224,\n        \"max\": 224,\n        \"num_unique_values\": 1,\n        \"samples\": [\n          224\n        ],\n        \"semantic_type\": \"\",\n        \"description\": \"\"\n      }\n    },\n    {\n      \"column\": \"cifar100-val\",\n      \"properties\": {\n        \"dtype\": \"number\",\n        \"std\": 0.02640706976045112,\n        \"min\": 0.888,\n        \"max\": 0.94,\n        \"num_unique_values\": 3,\n        \"samples\": [\n          0.94\n        ],\n        \"semantic_type\": \"\",\n        \"description\": \"\"\n      }\n    },\n    {\n      \"column\": \"cifar100-test\",\n      \"properties\": {\n        \"dtype\": \"number\",\n        \"std\": 0.03091056992896334,\n        \"min\": 0.8801,\n        \"max\": 0.9408,\n        \"num_unique_values\": 3,\n        \"samples\": [\n          0.9408\n        ],\n        \"semantic_type\": \"\",\n        \"description\": \"\"\n      }\n    },\n    {\n      \"column\": \"resisc45-res\",\n      \"properties\": {\n        \"dtype\": \"number\",\n        \"std\": 0,\n        \"min\": 384,\n        \"max\": 384,\n        \"num_unique_values\": 1,\n        \"samples\": [\n          384\n        ],\n        \"semantic_type\": \"\",\n        \"description\": \"\"\n      }\n    },\n    {\n      \"column\": \"resisc45-val\",\n      \"properties\": {\n        \"dtype\": \"number\",\n        \"std\": 0.005160206714205673,\n        \"min\": 0.96698,\n        \"max\": 0.9773,\n        \"num_unique_values\": 3,\n        \"samples\": [\n          0.9773\n        ],\n        \"semantic_type\": \"\",\n        \"description\": \"\"\n      }\n    },\n    {\n      \"column\": \"resisc45-test\",\n      \"properties\": {\n        \"dtype\": \"number\",\n        \"std\": 0.007000116665694432,\n        \"min\": 0.96143,\n        \"max\": 0.97508,\n        \"num_unique_values\": 3,\n        \"samples\": [\n          0.97508\n        ],\n        \"semantic_type\": \"\",\n        \"description\": \"\"\n      }\n    },\n    {\n      \"column\": \"oxford_iiit_pet-res\",\n      \"properties\": {\n        \"dtype\": \"number\",\n        \"std\": 0,\n        \"min\": 384,\n        \"max\": 384,\n        \"num_unique_values\": 1,\n        \"samples\": [\n          384\n        ],\n        \"semantic_type\": \"\",\n        \"description\": \"\"\n      }\n    },\n    {\n      \"column\": \"oxford_iiit_pet-val\",\n      \"properties\": {\n        \"dtype\": \"number\",\n        \"std\": 0.014970605643504671,\n        \"min\": 0.9538,\n        \"max\": 0.9837,\n        \"num_unique_values\": 3,\n        \"samples\": [\n          0.9837\n        ],\n        \"semantic_type\": \"\",\n        \"description\": \"\"\n      }\n    },\n    {\n      \"column\": \"oxford_iiit_pet-test\",\n      \"properties\": {\n        \"dtype\": \"number\",\n        \"std\": 0.01894626348386403,\n        \"min\": 0.91142,\n        \"max\": 0.94711,\n        \"num_unique_values\": 3,\n        \"samples\": [\n          0.94711\n        ],\n        \"semantic_type\": \"\",\n        \"description\": \"\"\n      }\n    },\n    {\n      \"column\": \"kitti-res\",\n      \"properties\": {\n        \"dtype\": \"number\",\n        \"std\": 92,\n        \"min\": 224,\n        \"max\": 384,\n        \"num_unique_values\": 2,\n        \"samples\": [\n          384\n        ],\n        \"semantic_type\": \"\",\n        \"description\": \"\"\n      }\n    },\n    {\n      \"column\": \"kitti-val\",\n      \"properties\": {\n        \"dtype\": \"number\",\n        \"std\": 0.0071191595945963165,\n        \"min\": 0.85106,\n        \"max\": 0.86525,\n        \"num_unique_values\": 3,\n        \"samples\": [\n          0.86525\n        ],\n        \"semantic_type\": \"\",\n        \"description\": \"\"\n      }\n    },\n    {\n      \"column\": \"kitti-test\",\n      \"properties\": {\n        \"dtype\": \"number\",\n        \"std\": 0.011706802865570649,\n        \"min\": 0.81294,\n        \"max\": 0.83475,\n        \"num_unique_values\": 3,\n        \"samples\": [\n          0.81294\n        ],\n        \"semantic_type\": \"\",\n        \"description\": \"\"\n      }\n    }\n  ]\n}",
       "type": "dataframe"
      },
      "text/html": [
       "\n",
       "  <div id=\"df-b45156bc-5cd3-4f3b-97e5-344bc79952df\" class=\"colab-df-container\">\n",
       "    <div>\n",
       "<style scoped>\n",
       "    .dataframe tbody tr th:only-of-type {\n",
       "        vertical-align: middle;\n",
       "    }\n",
       "\n",
       "    .dataframe tbody tr th {\n",
       "        vertical-align: top;\n",
       "    }\n",
       "\n",
       "    .dataframe thead th {\n",
       "        text-align: right;\n",
       "    }\n",
       "</style>\n",
       "<table border=\"1\" class=\"dataframe\">\n",
       "  <thead>\n",
       "    <tr style=\"text-align: right;\">\n",
       "      <th></th>\n",
       "      <th>models</th>\n",
       "      <th>imagenet2012-res</th>\n",
       "      <th>imagenet2012-val</th>\n",
       "      <th>imagenet2012-test</th>\n",
       "      <th>cifar100-res</th>\n",
       "      <th>cifar100-val</th>\n",
       "      <th>cifar100-test</th>\n",
       "      <th>resisc45-res</th>\n",
       "      <th>resisc45-val</th>\n",
       "      <th>resisc45-test</th>\n",
       "      <th>oxford_iiit_pet-res</th>\n",
       "      <th>oxford_iiit_pet-val</th>\n",
       "      <th>oxford_iiit_pet-test</th>\n",
       "      <th>kitti-res</th>\n",
       "      <th>kitti-val</th>\n",
       "      <th>kitti-test</th>\n",
       "    </tr>\n",
       "  </thead>\n",
       "  <tbody>\n",
       "    <tr>\n",
       "      <th>0</th>\n",
       "      <td>B/16</td>\n",
       "      <td>384</td>\n",
       "      <td>0.89432</td>\n",
       "      <td>0.85486</td>\n",
       "      <td>224</td>\n",
       "      <td>0.940</td>\n",
       "      <td>0.9408</td>\n",
       "      <td>384</td>\n",
       "      <td>0.97730</td>\n",
       "      <td>0.97508</td>\n",
       "      <td>384</td>\n",
       "      <td>0.98370</td>\n",
       "      <td>0.94711</td>\n",
       "      <td>224</td>\n",
       "      <td>0.86525</td>\n",
       "      <td>0.81294</td>\n",
       "    </tr>\n",
       "    <tr>\n",
       "      <th>1</th>\n",
       "      <td>S/16</td>\n",
       "      <td>384</td>\n",
       "      <td>0.87082</td>\n",
       "      <td>0.83728</td>\n",
       "      <td>224</td>\n",
       "      <td>0.922</td>\n",
       "      <td>0.9206</td>\n",
       "      <td>384</td>\n",
       "      <td>0.97222</td>\n",
       "      <td>0.96556</td>\n",
       "      <td>384</td>\n",
       "      <td>0.96739</td>\n",
       "      <td>0.94029</td>\n",
       "      <td>384</td>\n",
       "      <td>0.85714</td>\n",
       "      <td>0.83475</td>\n",
       "    </tr>\n",
       "    <tr>\n",
       "      <th>2</th>\n",
       "      <td>Ti/16</td>\n",
       "      <td>384</td>\n",
       "      <td>0.81993</td>\n",
       "      <td>0.78220</td>\n",
       "      <td>224</td>\n",
       "      <td>0.888</td>\n",
       "      <td>0.8801</td>\n",
       "      <td>384</td>\n",
       "      <td>0.96698</td>\n",
       "      <td>0.96143</td>\n",
       "      <td>384</td>\n",
       "      <td>0.95380</td>\n",
       "      <td>0.91142</td>\n",
       "      <td>384</td>\n",
       "      <td>0.85106</td>\n",
       "      <td>0.83122</td>\n",
       "    </tr>\n",
       "  </tbody>\n",
       "</table>\n",
       "</div>\n",
       "    <div class=\"colab-df-buttons\">\n",
       "\n",
       "  <div class=\"colab-df-container\">\n",
       "    <button class=\"colab-df-convert\" onclick=\"convertToInteractive('df-b45156bc-5cd3-4f3b-97e5-344bc79952df')\"\n",
       "            title=\"Convert this dataframe to an interactive table.\"\n",
       "            style=\"display:none;\">\n",
       "\n",
       "  <svg xmlns=\"http://www.w3.org/2000/svg\" height=\"24px\" viewBox=\"0 -960 960 960\">\n",
       "    <path d=\"M120-120v-720h720v720H120Zm60-500h600v-160H180v160Zm220 220h160v-160H400v160Zm0 220h160v-160H400v160ZM180-400h160v-160H180v160Zm440 0h160v-160H620v160ZM180-180h160v-160H180v160Zm440 0h160v-160H620v160Z\"/>\n",
       "  </svg>\n",
       "    </button>\n",
       "\n",
       "  <style>\n",
       "    .colab-df-container {\n",
       "      display:flex;\n",
       "      gap: 12px;\n",
       "    }\n",
       "\n",
       "    .colab-df-convert {\n",
       "      background-color: #E8F0FE;\n",
       "      border: none;\n",
       "      border-radius: 50%;\n",
       "      cursor: pointer;\n",
       "      display: none;\n",
       "      fill: #1967D2;\n",
       "      height: 32px;\n",
       "      padding: 0 0 0 0;\n",
       "      width: 32px;\n",
       "    }\n",
       "\n",
       "    .colab-df-convert:hover {\n",
       "      background-color: #E2EBFA;\n",
       "      box-shadow: 0px 1px 2px rgba(60, 64, 67, 0.3), 0px 1px 3px 1px rgba(60, 64, 67, 0.15);\n",
       "      fill: #174EA6;\n",
       "    }\n",
       "\n",
       "    .colab-df-buttons div {\n",
       "      margin-bottom: 4px;\n",
       "    }\n",
       "\n",
       "    [theme=dark] .colab-df-convert {\n",
       "      background-color: #3B4455;\n",
       "      fill: #D2E3FC;\n",
       "    }\n",
       "\n",
       "    [theme=dark] .colab-df-convert:hover {\n",
       "      background-color: #434B5C;\n",
       "      box-shadow: 0px 1px 3px 1px rgba(0, 0, 0, 0.15);\n",
       "      filter: drop-shadow(0px 1px 2px rgba(0, 0, 0, 0.3));\n",
       "      fill: #FFFFFF;\n",
       "    }\n",
       "  </style>\n",
       "\n",
       "    <script>\n",
       "      const buttonEl =\n",
       "        document.querySelector('#df-b45156bc-5cd3-4f3b-97e5-344bc79952df button.colab-df-convert');\n",
       "      buttonEl.style.display =\n",
       "        google.colab.kernel.accessAllowed ? 'block' : 'none';\n",
       "\n",
       "      async function convertToInteractive(key) {\n",
       "        const element = document.querySelector('#df-b45156bc-5cd3-4f3b-97e5-344bc79952df');\n",
       "        const dataTable =\n",
       "          await google.colab.kernel.invokeFunction('convertToInteractive',\n",
       "                                                    [key], {});\n",
       "        if (!dataTable) return;\n",
       "\n",
       "        const docLinkHtml = 'Like what you see? Visit the ' +\n",
       "          '<a target=\"_blank\" href=https://colab.research.google.com/notebooks/data_table.ipynb>data table notebook</a>'\n",
       "          + ' to learn more about interactive tables.';\n",
       "        element.innerHTML = '';\n",
       "        dataTable['output_type'] = 'display_data';\n",
       "        await google.colab.output.renderOutput(dataTable, element);\n",
       "        const docLink = document.createElement('div');\n",
       "        docLink.innerHTML = docLinkHtml;\n",
       "        element.appendChild(docLink);\n",
       "      }\n",
       "    </script>\n",
       "  </div>\n",
       "\n",
       "\n",
       "    <div id=\"df-f5eda8b0-c3bf-486a-b2f2-01aa6e06a6c6\">\n",
       "      <button class=\"colab-df-quickchart\" onclick=\"quickchart('df-f5eda8b0-c3bf-486a-b2f2-01aa6e06a6c6')\"\n",
       "                title=\"Suggest charts\"\n",
       "                style=\"display:none;\">\n",
       "\n",
       "<svg xmlns=\"http://www.w3.org/2000/svg\" height=\"24px\"viewBox=\"0 0 24 24\"\n",
       "     width=\"24px\">\n",
       "    <g>\n",
       "        <path d=\"M19 3H5c-1.1 0-2 .9-2 2v14c0 1.1.9 2 2 2h14c1.1 0 2-.9 2-2V5c0-1.1-.9-2-2-2zM9 17H7v-7h2v7zm4 0h-2V7h2v10zm4 0h-2v-4h2v4z\"/>\n",
       "    </g>\n",
       "</svg>\n",
       "      </button>\n",
       "\n",
       "<style>\n",
       "  .colab-df-quickchart {\n",
       "      --bg-color: #E8F0FE;\n",
       "      --fill-color: #1967D2;\n",
       "      --hover-bg-color: #E2EBFA;\n",
       "      --hover-fill-color: #174EA6;\n",
       "      --disabled-fill-color: #AAA;\n",
       "      --disabled-bg-color: #DDD;\n",
       "  }\n",
       "\n",
       "  [theme=dark] .colab-df-quickchart {\n",
       "      --bg-color: #3B4455;\n",
       "      --fill-color: #D2E3FC;\n",
       "      --hover-bg-color: #434B5C;\n",
       "      --hover-fill-color: #FFFFFF;\n",
       "      --disabled-bg-color: #3B4455;\n",
       "      --disabled-fill-color: #666;\n",
       "  }\n",
       "\n",
       "  .colab-df-quickchart {\n",
       "    background-color: var(--bg-color);\n",
       "    border: none;\n",
       "    border-radius: 50%;\n",
       "    cursor: pointer;\n",
       "    display: none;\n",
       "    fill: var(--fill-color);\n",
       "    height: 32px;\n",
       "    padding: 0;\n",
       "    width: 32px;\n",
       "  }\n",
       "\n",
       "  .colab-df-quickchart:hover {\n",
       "    background-color: var(--hover-bg-color);\n",
       "    box-shadow: 0 1px 2px rgba(60, 64, 67, 0.3), 0 1px 3px 1px rgba(60, 64, 67, 0.15);\n",
       "    fill: var(--button-hover-fill-color);\n",
       "  }\n",
       "\n",
       "  .colab-df-quickchart-complete:disabled,\n",
       "  .colab-df-quickchart-complete:disabled:hover {\n",
       "    background-color: var(--disabled-bg-color);\n",
       "    fill: var(--disabled-fill-color);\n",
       "    box-shadow: none;\n",
       "  }\n",
       "\n",
       "  .colab-df-spinner {\n",
       "    border: 2px solid var(--fill-color);\n",
       "    border-color: transparent;\n",
       "    border-bottom-color: var(--fill-color);\n",
       "    animation:\n",
       "      spin 1s steps(1) infinite;\n",
       "  }\n",
       "\n",
       "  @keyframes spin {\n",
       "    0% {\n",
       "      border-color: transparent;\n",
       "      border-bottom-color: var(--fill-color);\n",
       "      border-left-color: var(--fill-color);\n",
       "    }\n",
       "    20% {\n",
       "      border-color: transparent;\n",
       "      border-left-color: var(--fill-color);\n",
       "      border-top-color: var(--fill-color);\n",
       "    }\n",
       "    30% {\n",
       "      border-color: transparent;\n",
       "      border-left-color: var(--fill-color);\n",
       "      border-top-color: var(--fill-color);\n",
       "      border-right-color: var(--fill-color);\n",
       "    }\n",
       "    40% {\n",
       "      border-color: transparent;\n",
       "      border-right-color: var(--fill-color);\n",
       "      border-top-color: var(--fill-color);\n",
       "    }\n",
       "    60% {\n",
       "      border-color: transparent;\n",
       "      border-right-color: var(--fill-color);\n",
       "    }\n",
       "    80% {\n",
       "      border-color: transparent;\n",
       "      border-right-color: var(--fill-color);\n",
       "      border-bottom-color: var(--fill-color);\n",
       "    }\n",
       "    90% {\n",
       "      border-color: transparent;\n",
       "      border-bottom-color: var(--fill-color);\n",
       "    }\n",
       "  }\n",
       "</style>\n",
       "\n",
       "      <script>\n",
       "        async function quickchart(key) {\n",
       "          const quickchartButtonEl =\n",
       "            document.querySelector('#' + key + ' button');\n",
       "          quickchartButtonEl.disabled = true;  // To prevent multiple clicks.\n",
       "          quickchartButtonEl.classList.add('colab-df-spinner');\n",
       "          try {\n",
       "            const charts = await google.colab.kernel.invokeFunction(\n",
       "                'suggestCharts', [key], {});\n",
       "          } catch (error) {\n",
       "            console.error('Error during call to suggestCharts:', error);\n",
       "          }\n",
       "          quickchartButtonEl.classList.remove('colab-df-spinner');\n",
       "          quickchartButtonEl.classList.add('colab-df-quickchart-complete');\n",
       "        }\n",
       "        (() => {\n",
       "          let quickchartButtonEl =\n",
       "            document.querySelector('#df-f5eda8b0-c3bf-486a-b2f2-01aa6e06a6c6 button');\n",
       "          quickchartButtonEl.style.display =\n",
       "            google.colab.kernel.accessAllowed ? 'block' : 'none';\n",
       "        })();\n",
       "      </script>\n",
       "    </div>\n",
       "\n",
       "    </div>\n",
       "  </div>\n"
      ],
      "text/plain": [
       "  models  imagenet2012-res  imagenet2012-val  imagenet2012-test  cifar100-res  \\\n",
       "0   B/16               384           0.89432            0.85486           224   \n",
       "1   S/16               384           0.87082            0.83728           224   \n",
       "2  Ti/16               384           0.81993            0.78220           224   \n",
       "\n",
       "   cifar100-val  cifar100-test  resisc45-res  resisc45-val  resisc45-test  \\\n",
       "0         0.940         0.9408           384       0.97730        0.97508   \n",
       "1         0.922         0.9206           384       0.97222        0.96556   \n",
       "2         0.888         0.8801           384       0.96698        0.96143   \n",
       "\n",
       "   oxford_iiit_pet-res  oxford_iiit_pet-val  oxford_iiit_pet-test  kitti-res  \\\n",
       "0                  384              0.98370               0.94711        224   \n",
       "1                  384              0.96739               0.94029        384   \n",
       "2                  384              0.95380               0.91142        384   \n",
       "\n",
       "   kitti-val  kitti-test  \n",
       "0    0.86525     0.81294  \n",
       "1    0.85714     0.83475  \n",
       "2    0.85106     0.83122  "
      ]
     },
     "execution_count": 5,
     "metadata": {},
     "output_type": "execute_result"
    }
   ],
   "source": [
    "cmp_models(adapt_datasets, ['B/16', 'S/16', 'Ti/16'])"
   ]
  },
  {
   "cell_type": "markdown",
   "id": "4909c2e6-f23c-4196-bfe5-5d44579ff6b3",
   "metadata": {
    "id": "4909c2e6-f23c-4196-bfe5-5d44579ff6b3"
   },
   "source": [
    "## Loading model and dataset"
   ]
  },
  {
   "cell_type": "code",
   "execution_count": 66,
   "id": "ff3c3283-761b-40d4-bfb3-aa9d1592b0d3",
   "metadata": {
    "id": "ff3c3283-761b-40d4-bfb3-aa9d1592b0d3"
   },
   "outputs": [],
   "source": [
    "device = torch.device(\n",
    "    \"mps\" if torch.backends.mps.is_available() else (\n",
    "    \"cuda\" if torch.cuda.is_available() else\n",
    "    \"cpu\"\n",
    "))\n",
    "\n",
    "timm_modelnames = {\n",
    "    'Ti/16-224': 'vit_tiny_patch16_224',\n",
    "    'Ti/16-384': 'vit_tiny_patch16_384',\n",
    "    'S/16-224': 'vit_small_patch16_224',\n",
    "    'S/16-384': 'vit_small_patch16_384',\n",
    "    'B/16-224': 'vit_base_patch16_224',\n",
    "    'B/16-384': 'vit_base_patch16_384'\n",
    "}\n",
    "\n",
    "def load_model_and_dataset(adapt_ds, model_type, batch_size):\n",
    "    \"\"\"\n",
    "        Supports only 'cifar100' and 'oxford-iiit-pet' datasets\n",
    "        because other datasets already show similar results\n",
    "    \"\"\"\n",
    "    model_to_load = get_best_model(adapt_ds, model_type)\n",
    "    print(f\"Loaded checkpoint: {model_to_load}\")\n",
    "    # sample output: Ti_16-i21k-300ep-lr_0.001-aug_none-wd_0.03-do_0.0-sd_0.0--cifar100-steps_10k-lr_0.003-res_224\n",
    "    res = int(model_to_load.split('_')[-1])\n",
    "\n",
    "    # load dataset\n",
    "    ds_transform = v2.Compose([\n",
    "            v2.ToImage(),\n",
    "            v2.ToDtype(torch.float32, scale=True),\n",
    "            v2.Resize((res, res)),\n",
    "            v2.Normalize(mean=[0.5, 0.5, 0.5], std=[0.5, 0.5, 0.5])\n",
    "            # TODO: just some magic numbers for now, I need to find exact numbers that were used\n",
    "            # but these are good enough\n",
    "        ])\n",
    "    if adapt_ds == 'cifar100':\n",
    "        dataset = datasets.CIFAR100('data/', train=False, transform=ds_transform, download=True)\n",
    "    else:\n",
    "        dataset = datasets.OxfordIIITPet('data/', split='test', transform=ds_transform, download=True)\n",
    "    dataloader = torch.utils.data.DataLoader(dataset, batch_size=batch_size)\n",
    "\n",
    "\n",
    "    model = timm.create_model(timm_modelnames[f'{model_type}-{res}'], num_classes=len(dataset.classes))\n",
    "\n",
    "    # downloading a checkpoint automatically\n",
    "    # may show an error, but still downloads the checkpoint\n",
    "    if not tf.io.gfile.exists(f'data/{model_to_load}.npz'):\n",
    "        tf.io.gfile.copy(f'gs://vit_models/augreg/{model_to_load}.npz', f'data/{model_to_load}.npz')\n",
    "\n",
    "    timm.models.load_checkpoint(model, f'data/{model_to_load}.npz')\n",
    "\n",
    "    model.to(device)\n",
    "    model.eval()\n",
    "\n",
    "    return model, dataset, dataloader, res\n",
    "\n",
    "def test(model, dataloader, dataset):\n",
    "    sm = torch.nn.Softmax(dim=1)\n",
    "    with torch.no_grad():\n",
    "        acc, correct = 0, 0\n",
    "        for features, labels in tqdm(iter(dataloader)):\n",
    "            features = features.to(device)\n",
    "            labels = labels.to(device)\n",
    "            clf = sm(model(features)).argmax(1)\n",
    "            correct += (clf == labels).sum()\n",
    "    acc = correct / len(dataset)\n",
    "    return acc\n",
    "\n",
    "def eval_perf(model, dataset, res):\n",
    "    with torch.no_grad():\n",
    "        # === Measure Latency ===\n",
    "        print(\"Measuring latency...\")\n",
    "        start_time = time.time()\n",
    "        model((next(iter(dataset))[0])[None].to(device))  # Measure latency for a single prediction\n",
    "        end_time = time.time()\n",
    "        latency = (end_time - start_time) * 1000  # Convert to milliseconds\n",
    "        print(f\"Latency (inference time for one sample): {latency:.2f} ms\")\n",
    "\n",
    "        # === Measure FLOPs ===\n",
    "        print(\"Calculating FLOPs...\")\n",
    "        macs, params = get_model_complexity_info(model, (3, res, res),\n",
    "                                             as_strings=False,\n",
    "                                             print_per_layer_stat=False,\n",
    "                                             verbose=False)\n",
    "        print(f\"GFLOPs: {(macs * 2)//1e9}\\nParams: {params}\")"
   ]
  },
  {
   "cell_type": "code",
   "execution_count": 108,
   "id": "4d022416-8df9-412d-b6ac-0c04b070065a",
   "metadata": {
    "colab": {
     "base_uri": "https://localhost:8080/"
    },
    "id": "4d022416-8df9-412d-b6ac-0c04b070065a",
    "outputId": "d8100e58-af17-4810-f5e5-034a0bef5300"
   },
   "outputs": [
    {
     "name": "stdout",
     "output_type": "stream",
     "text": [
      "Loaded checkpoint: Ti_16-i21k-300ep-lr_0.001-aug_none-wd_0.03-do_0.0-sd_0.0--oxford_iiit_pet-steps_2k-lr_0.001-res_384\n"
     ]
    },
    {
     "name": "stderr",
     "output_type": "stream",
     "text": [
      "100%|██████████| 115/115 [00:44<00:00,  2.60it/s]"
     ]
    },
    {
     "name": "stdout",
     "output_type": "stream",
     "text": [
      "\n",
      "Ti16 accuracy 0.9057\n"
     ]
    },
    {
     "name": "stderr",
     "output_type": "stream",
     "text": [
      "\n"
     ]
    }
   ],
   "source": [
    "batch_size = 32\n",
    "ti16, dataset, dataloader, res = load_model_and_dataset('oxford_iiit_pet', 'Ti/16', batch_size)\n",
    "acc_ti16 = test(ti16, dataloader, dataset)\n",
    "print(f'\\nTi16 accuracy {acc_ti16:.4f}')"
   ]
  },
  {
   "cell_type": "code",
   "execution_count": 107,
   "id": "RIJYcnZuw9Rz",
   "metadata": {
    "colab": {
     "base_uri": "https://localhost:8080/"
    },
    "id": "RIJYcnZuw9Rz",
    "outputId": "6080d226-7c1d-456c-bcee-915ee2bf0b11"
   },
   "outputs": [
    {
     "name": "stdout",
     "output_type": "stream",
     "text": [
      "Measuring latency...\n",
      "Latency (inference time for one sample): 12.13 ms\n",
      "Calculating FLOPs...\n",
      "GFLOPs: 1.0\n",
      "Params: 5543716\n"
     ]
    }
   ],
   "source": [
    "eval_perf(ti16, dataset, res)"
   ]
  },
  {
   "cell_type": "code",
   "execution_count": 95,
   "id": "b5dc1727-fa13-49eb-bdb2-be3f8a3c2231",
   "metadata": {
    "colab": {
     "base_uri": "https://localhost:8080/"
    },
    "id": "b5dc1727-fa13-49eb-bdb2-be3f8a3c2231",
    "outputId": "6417fc46-562c-4927-faa4-5e8011b62d75"
   },
   "outputs": [
    {
     "name": "stdout",
     "output_type": "stream",
     "text": [
      "Loaded checkpoint: B_16-i21k-300ep-lr_0.001-aug_medium1-wd_0.1-do_0.0-sd_0.0--cifar100-steps_10k-lr_0.003-res_224\n"
     ]
    },
    {
     "name": "stderr",
     "output_type": "stream",
     "text": [
      "100%|██████████| 313/313 [01:53<00:00,  2.76it/s]"
     ]
    },
    {
     "name": "stdout",
     "output_type": "stream",
     "text": [
      "\n",
      "B16 accuracy 0.9405\n"
     ]
    },
    {
     "name": "stderr",
     "output_type": "stream",
     "text": [
      "\n"
     ]
    }
   ],
   "source": [
    "batch_size = 32\n",
    "b16, dataset, dataloader, res = load_model_and_dataset('cifar100', 'B/16', batch_size)\n",
    "acc_b16 = test(b16, dataloader, dataset)\n",
    "print(f'\\nB16 accuracy {acc_b16:.4f}')"
   ]
  },
  {
   "cell_type": "code",
   "execution_count": 100,
   "id": "CsXfIcYtw_Cv",
   "metadata": {
    "colab": {
     "base_uri": "https://localhost:8080/"
    },
    "id": "CsXfIcYtw_Cv",
    "outputId": "539c38ea-59fb-4b0e-fe23-8851f1b054ad"
   },
   "outputs": [
    {
     "name": "stdout",
     "output_type": "stream",
     "text": [
      "Measuring latency...\n",
      "Latency (inference time for one sample): 12.48 ms\n",
      "Calculating FLOPs...\n",
      "GFLOPs: 24.0\n",
      "Params: 85875556\n"
     ]
    }
   ],
   "source": [
    "eval_perf(b16, dataset, res)"
   ]
  }
 ],
 "metadata": {
  "accelerator": "GPU",
  "colab": {
   "gpuType": "T4",
   "provenance": []
  },
  "kernelspec": {
   "display_name": "Python 3 (ipykernel)",
   "language": "python",
   "name": "python3"
  },
  "language_info": {
   "codemirror_mode": {
    "name": "ipython",
    "version": 3
   },
   "file_extension": ".py",
   "mimetype": "text/x-python",
   "name": "python",
   "nbconvert_exporter": "python",
   "pygments_lexer": "ipython3",
   "version": "3.12.2"
  }
 },
 "nbformat": 4,
 "nbformat_minor": 5
}
